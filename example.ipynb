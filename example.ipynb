{
 "cells": [
  {
   "cell_type": "code",
   "execution_count": 1,
   "id": "ff3b3197",
   "metadata": {},
   "outputs": [],
   "source": [
    "from utils import *\n",
    "from dataio import *\n",
    "from faraday_stuff import *\n",
    "from qufit import *\n",
    "from qu_models import *"
   ]
  },
  {
   "cell_type": "code",
   "execution_count": 2,
   "id": "323e3ce2",
   "metadata": {},
   "outputs": [],
   "source": [
    "cfg_file = 'configs/xmmlss12.cfg'\n",
    "cfg = QUcfg()              # init config class\n",
    "cfg.read_cfg(cfg_file)     # read config file"
   ]
  },
  {
   "cell_type": "code",
   "execution_count": 3,
   "id": "57eee653",
   "metadata": {},
   "outputs": [
    {
     "name": "stdout",
     "output_type": "stream",
     "text": [
      "------\n",
      "Fitting ID2096\n",
      "Model SFT\n",
      "------\n"
     ]
    },
    {
     "ename": "AttributeError",
     "evalue": "'QUSimple' object has no attribute 'l2'",
     "output_type": "error",
     "traceback": [
      "\u001b[0;31m---------------------------------------------------------------------------\u001b[0m",
      "\u001b[0;31mAttributeError\u001b[0m                            Traceback (most recent call last)",
      "Cell \u001b[0;32mIn[3], line 2\u001b[0m\n\u001b[1;32m      1\u001b[0m qufit \u001b[38;5;241m=\u001b[39m QUfit(cfg)\n\u001b[0;32m----> 2\u001b[0m \u001b[43mqufit\u001b[49m\u001b[38;5;241;43m.\u001b[39;49m\u001b[43mrun_file\u001b[49m\u001b[43m(\u001b[49m\u001b[43m)\u001b[49m\n",
      "File \u001b[0;32m~/SRC/GITHUB/QUFitting/qufit.py:50\u001b[0m, in \u001b[0;36mQUfit.run_file\u001b[0;34m(self)\u001b[0m\n\u001b[1;32m     48\u001b[0m \u001b[38;5;28mself\u001b[39m\u001b[38;5;241m.\u001b[39mmodel\u001b[38;5;241m.\u001b[39msrcid \u001b[38;5;241m=\u001b[39m \u001b[38;5;28mint\u001b[39m(srcid[\u001b[38;5;241m2\u001b[39m:])\n\u001b[1;32m     49\u001b[0m \u001b[38;5;28mself\u001b[39m\u001b[38;5;241m.\u001b[39mmodel\u001b[38;5;241m.\u001b[39mdata \u001b[38;5;241m=\u001b[39m \u001b[38;5;28mself\u001b[39m\u001b[38;5;241m.\u001b[39mdata\n\u001b[0;32m---> 50\u001b[0m \u001b[38;5;28mprint\u001b[39m(\u001b[38;5;28;43mself\u001b[39;49m\u001b[38;5;241;43m.\u001b[39;49m\u001b[43mmodel\u001b[49m\u001b[38;5;241;43m.\u001b[39;49m\u001b[43ml2\u001b[49m)\n\u001b[1;32m     52\u001b[0m \u001b[38;5;28;01mif\u001b[39;00m \u001b[38;5;28mself\u001b[39m\u001b[38;5;241m.\u001b[39mcfg\u001b[38;5;241m.\u001b[39mfit_ml :\n\u001b[1;32m     53\u001b[0m     \u001b[38;5;28mself\u001b[39m\u001b[38;5;241m.\u001b[39mmodel\u001b[38;5;241m.\u001b[39mml_fit()\n",
      "\u001b[0;31mAttributeError\u001b[0m: 'QUSimple' object has no attribute 'l2'"
     ]
    }
   ],
   "source": [
    "qufit = QUfit(cfg)\n",
    "qufit.run_file()"
   ]
  },
  {
   "cell_type": "code",
   "execution_count": null,
   "id": "7eeb2e2e",
   "metadata": {},
   "outputs": [],
   "source": []
  }
 ],
 "metadata": {
  "kernelspec": {
   "display_name": "Python 3 (ipykernel)",
   "language": "python",
   "name": "python3"
  },
  "language_info": {
   "codemirror_mode": {
    "name": "ipython",
    "version": 3
   },
   "file_extension": ".py",
   "mimetype": "text/x-python",
   "name": "python",
   "nbconvert_exporter": "python",
   "pygments_lexer": "ipython3",
   "version": "3.10.10"
  }
 },
 "nbformat": 4,
 "nbformat_minor": 5
}
