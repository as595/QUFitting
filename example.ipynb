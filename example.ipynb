{
 "cells": [
  {
   "cell_type": "code",
   "execution_count": 1,
   "id": "ff3b3197",
   "metadata": {},
   "outputs": [],
   "source": [
    "import pylab as pl\n",
    "\n",
    "from qufit import *"
   ]
  },
  {
   "cell_type": "markdown",
   "id": "2eecafbc",
   "metadata": {},
   "source": [
    "---\n",
    "Read the data and model specs from a config file:"
   ]
  },
  {
   "cell_type": "code",
   "execution_count": 2,
   "id": "323e3ce2",
   "metadata": {},
   "outputs": [],
   "source": [
    "cfg_file = 'configs/xmmlss12.cfg'"
   ]
  },
  {
   "cell_type": "markdown",
   "id": "40e7c553",
   "metadata": {},
   "source": [
    "Initialise the fitting class and run the fit. This config file specifies 3 fits (ML, MCMC, Nested) using a simple faraday thin (SFT) model:"
   ]
  },
  {
   "cell_type": "code",
   "execution_count": 3,
   "id": "57eee653",
   "metadata": {},
   "outputs": [
    {
     "ename": "TypeError",
     "evalue": "QUcfg.__init__() takes 1 positional argument but 2 were given",
     "output_type": "error",
     "traceback": [
      "\u001b[0;31m---------------------------------------------------------------------------\u001b[0m",
      "\u001b[0;31mTypeError\u001b[0m                                 Traceback (most recent call last)",
      "Cell \u001b[0;32mIn[3], line 1\u001b[0m\n\u001b[0;32m----> 1\u001b[0m qufit \u001b[38;5;241m=\u001b[39m \u001b[43mQUfit\u001b[49m\u001b[43m(\u001b[49m\u001b[43mcfg_file\u001b[49m\u001b[43m)\u001b[49m\n\u001b[1;32m      2\u001b[0m qufit\u001b[38;5;241m.\u001b[39mrun_file()\n",
      "File \u001b[0;32m~/SRC/GITHUB/QUFitting/qufit.py:21\u001b[0m, in \u001b[0;36mQUfit.__init__\u001b[0;34m(self, cfg_file)\u001b[0m\n\u001b[1;32m     19\u001b[0m \u001b[38;5;28;01mdef\u001b[39;00m \u001b[38;5;21m__init__\u001b[39m(\u001b[38;5;28mself\u001b[39m, cfg_file):\n\u001b[0;32m---> 21\u001b[0m     \u001b[38;5;28mself\u001b[39m\u001b[38;5;241m.\u001b[39mcfg \u001b[38;5;241m=\u001b[39m \u001b[43mQUcfg\u001b[49m\u001b[43m(\u001b[49m\u001b[43mcfg_file\u001b[49m\u001b[43m)\u001b[49m       \u001b[38;5;66;03m# init config class\u001b[39;00m\n\u001b[1;32m     22\u001b[0m     \u001b[38;5;28mself\u001b[39m\u001b[38;5;241m.\u001b[39mcfg\u001b[38;5;241m.\u001b[39mread_config()           \u001b[38;5;66;03m# read the config file\u001b[39;00m\n\u001b[1;32m     23\u001b[0m     \u001b[38;5;28mself\u001b[39m\u001b[38;5;241m.\u001b[39mdata \u001b[38;5;241m=\u001b[39m QUdata(\u001b[38;5;28mself\u001b[39m\u001b[38;5;241m.\u001b[39mcfg)    \u001b[38;5;66;03m# init data class\u001b[39;00m\n",
      "\u001b[0;31mTypeError\u001b[0m: QUcfg.__init__() takes 1 positional argument but 2 were given"
     ]
    }
   ],
   "source": [
    "qufit = QUfit(cfg_file)\n",
    "qufit.run_file()"
   ]
  },
  {
   "cell_type": "markdown",
   "id": "4c83d7a0",
   "metadata": {},
   "source": [
    "Plot model fits onto data:"
   ]
  },
  {
   "cell_type": "code",
   "execution_count": null,
   "id": "7eeb2e2e",
   "metadata": {},
   "outputs": [],
   "source": [
    "q_ml, u_ml = qufit.model.model(qufit.parms_ml, qufit.data.l2)\n",
    "q_exp, u_exp = qufit.model.model(qufit.parms_mcmc[:,0], qufit.data.l2)"
   ]
  },
  {
   "cell_type": "code",
   "execution_count": null,
   "id": "a0658291",
   "metadata": {},
   "outputs": [],
   "source": [
    "import seaborn as sns\n",
    "\n",
    "fig = pl.figure()\n",
    "\n",
    "# ----------\n",
    "# Q,U\n",
    "\n",
    "ax1 = fig.add_axes([0.1, 0.4, 0.9, 0.5])\n",
    "\n",
    "if not cfg.pol_frac:\n",
    "    ax1.errorbar(data.l2[::-1],data.stokesQn[::-1], yerr=data.noise, fmt='s', ms=3, c='blue', capthick=0, lw=0.1, label='Q')\n",
    "    ax1.errorbar(data.l2[::-1],data.stokesUn[::-1], yerr=data.noise, fmt='^', ms=3, c='red', capthick=0, lw=0.1, label='U')\n",
    "else:\n",
    "    ax1.errorbar(data.l2[::-1],data.stokesQn[::-1], yerr=data.noise, fmt='s', ms=3, c='blue', capthick=0, lw=0.1, label='Q/I')\n",
    "    ax1.errorbar(data.l2[::-1],data.stokesUn[::-1], yerr=data.noise, fmt='^', ms=3, c='red', capthick=0, lw=0.1, label='U/I')\n",
    "\n",
    "    \n",
    "# 50 random samples from the posterior...   \n",
    "color = \"#ff7f0e\"\n",
    "samples = qufit.model.mcmc_samples\n",
    "for s in samples[np.random.randint(len(samples), size=50)]:\n",
    "    mu_q, mu_u = qufit.model.model(s, data.l2)\n",
    "    ax1.plot(data.l2[::-1],mu_q[::-1], c=color, alpha=0.1)\n",
    "    ax1.plot(data.l2[::-1],mu_u[::-1], c=color, alpha=0.1)\n",
    "\n",
    "ax1.plot(data.l2[::-1],q_ml[::-1], c='blue', ls='dashed', label='ML')\n",
    "ax1.plot(data.l2[::-1],u_ml[::-1], c='red', ls='dashed')\n",
    "ax1.plot(data.l2[::-1],q_exp[::-1], c='blue', label='MCMC EXP')\n",
    "ax1.plot(data.l2[::-1],u_exp[::-1], c='red')\n",
    "\n",
    "ax1.axhline(y=0, ls=':', c='lightgray')\n",
    "if not cfg.pol_frac:\n",
    "    ax1.set_ylabel(r\"Intensity [$\\mu$Jy/beam]\", fontsize=12)\n",
    "else:\n",
    "    ax1.set_ylabel(r\"Fractional polarisation [$\\%$]\", fontsize=12)\n",
    "    \n",
    "#ax1.set_xlabel(r\"$\\lambda^2$ [m$^2$]\", fontsize=12)\n",
    "ax1.legend()\n",
    "ax1.set_title(\"Model: {}\".format(qufit.cfg.modeltype))\n",
    "\n",
    "\n",
    "# ----------\n",
    "# Q,U residuals\n",
    "\n",
    "ax2 = fig.add_axes([0.1, 0.1, 0.9, 0.3])\n",
    "\n",
    "q_ml_res = (data.stokesQn - q_ml)/data.noise\n",
    "u_ml_res = (data.stokesUn - u_ml)/data.noise\n",
    "\n",
    "q_exp_res = (data.stokesQn - q_exp)/data.noise\n",
    "u_exp_res = (data.stokesUn - u_exp)/data.noise\n",
    "\n",
    "ax2.errorbar(data.l2[::-1], q_ml_res[::-1], yerr = np.ones_like(q_ml_res), c='blue', ls='', ms=3, label='ML')\n",
    "ax2.errorbar(data.l2[::-1], u_ml_res[::-1], yerr = np.ones_like(u_ml_res), c='red', ls='', ms=3)\n",
    "ax2.errorbar(data.l2[::-1], q_exp_res[::-1], yerr = np.ones_like(q_exp_res), c='blue', fmt='o', ls='', ms=3, label='MCMC EXP')\n",
    "ax2.errorbar(data.l2[::-1], u_exp_res[::-1], yerr = np.ones_like(q_exp_res), c='red', fmt='o', ls='', ms=3)\n",
    "\n",
    "ax2.axhline(y=0, ls='-', c='lightgray')\n",
    "ax2.axhline(y=3, ls=':', c='lightgray')\n",
    "ax2.axhline(y=-3, ls=':', c='lightgray')\n",
    "\n",
    "if not cfg.pol_frac:\n",
    "    ax2.set_ylabel(r\"Intensity [$\\mu$Jy/beam]\", fontsize=12)\n",
    "else:\n",
    "    ax2.set_ylabel(r\"Residual [$\\sigma$]\", fontsize=12)\n",
    "    \n",
    "ax2.set_xlabel(r\"$\\lambda^2$ [m$^2$]\", fontsize=12)\n",
    "ax2.legend()\n",
    "\n",
    "# ----------\n",
    "# Q,U residual histogram\n",
    "\n",
    "ax3 = fig.add_axes([1.0, 0.1, 0.05, 0.3])\n",
    "#ax3.hist(np.concatenate([q_ml_res,u_ml_res]), bins=10, orientation=\"horizontal\", alpha=0.3)\n",
    "\n",
    "sns.kdeplot(y=np.concatenate([q_ml_res,u_ml_res]), label = 'ML', fill=True, color='blue', ax=ax3)\n",
    "sns.kdeplot(y=np.concatenate([q_exp_res,u_exp_res]), label = 'MCMC', fill=True, color='red', ax=ax3)\n",
    "\n",
    "pl.show()"
   ]
  },
  {
   "cell_type": "code",
   "execution_count": null,
   "id": "01870e32",
   "metadata": {},
   "outputs": [],
   "source": []
  }
 ],
 "metadata": {
  "kernelspec": {
   "display_name": "Python 3 (ipykernel)",
   "language": "python",
   "name": "python3"
  },
  "language_info": {
   "codemirror_mode": {
    "name": "ipython",
    "version": 3
   },
   "file_extension": ".py",
   "mimetype": "text/x-python",
   "name": "python",
   "nbconvert_exporter": "python",
   "pygments_lexer": "ipython3",
   "version": "3.10.10"
  }
 },
 "nbformat": 4,
 "nbformat_minor": 5
}
